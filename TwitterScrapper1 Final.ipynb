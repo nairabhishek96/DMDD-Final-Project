{
 "cells": [
  {
   "cell_type": "markdown",
   "metadata": {},
   "source": [
    "<h3>Scraping Twitter: University Marketplace</h3>\n",
    "\n",
    "Introduction\n",
    "\n",
    "Here we are using twitter API to extract tweets related to buy and sell of used items in twitter. After extracting all the tweets using the API related to our search value, we will save all the records in our MySQL tables (tweet, tweet_mentions, tweet_tags). \n",
    "\n",
    "<h3>Importing Essential Libraries</h3>"
   ]
  },
  {
   "cell_type": "code",
   "execution_count": 1,
   "metadata": {},
   "outputs": [],
   "source": [
    "import tweepy\n",
    "import configparser\n",
    "import pandas as pd\n",
    "import pymysql\n",
    "import matplotlib\n",
    "pymysql.install_as_MySQLdb()\n",
    "import mysql.connector\n",
    "from mysql.connector import Error"
   ]
  },
  {
   "cell_type": "markdown",
   "metadata": {},
   "source": [
    "<h3>Authentication keys</h3>\n",
    "\n",
    "Here we are defining keys to authenticate with twitter API and start calling API functions to extract tweets for our analysis.\n",
    "\n",
    "You need to register for a Twitter dev account https://developer.twitter.com\n",
    "\n",
    "Look at the Twitter data model https://developer.twitter.com/en/docs/twitter-api/v1/data-dictionary/object-model/tweet\n",
    "\n",
    "Apply for a Twitter Developer Account\n",
    "\n",
    "Go to the Twitter developer site to apply for a developer account.\n",
    "\n",
    "Step 2: Create an Application\n",
    "\n",
    "Twitter grants authentication credentials to apps, not accounts. An app can be any tool or bot that uses the Twitter API. So you need to register your an app to be able to make API calls.\n",
    "\n",
    "To register your app, go to your Twitter apps page and select the Create an app option.\n",
    "\n",
    "You need to provide the following information about your app and its purpose:\n",
    "\n",
    "App name: a name to identify your application (such as examplebot) Application description: the purpose of your application (such as An example bot for a Real Python article) Your or your application’s website URL: required, but can be your personal site’s URL since bots don’t need a URL to work Use of the app: how users will use your app (such as This app is a bot that will automatically respond to users) Step 3: Create the Authentication Credentials\n",
    "\n",
    "To create the authentication credentials, go to your Twitter apps page. Here’s what the Apps page looks like:\n",
    "\n",
    "Edit app details Here you’ll find the Details button of your app. Clicking this button takes you to the next page, where you can generate the credentials.\n",
    "\n",
    "By selecting the Keys and tokens tab, you can generate and copy the key, token, and secrets to use them in your code:\n",
    "\n",
    "Generate keys and tokens After generating the credentials, save them to later use them in your code."
   ]
  },
  {
   "cell_type": "code",
   "execution_count": 2,
   "metadata": {},
   "outputs": [],
   "source": [
    "# read config from config.ini file\n",
    "config = configparser.ConfigParser()\n",
    "config.read('config.ini')\n",
    "\n",
    "api_key = config['twitter']['api_key']\n",
    "api_key_secret = config['twitter']['api_key_secret']\n",
    "access_token = config['twitter']['access_token']\n",
    "access_token_secret = config['twitter']['access_token_secret']"
   ]
  },
  {
   "cell_type": "markdown",
   "metadata": {},
   "source": [
    "<h3>Authentication</h3>\n",
    "\n",
    "As we have previously seen, the Twitter API requires that all requests use OAuth to authenticate. So you need to create the required authentication credentials to be able to use the API. These credentials are four text strings:\n",
    "\n",
    "Consumer key Consumer secret Access token Access secret"
   ]
  },
  {
   "cell_type": "code",
   "execution_count": 3,
   "metadata": {},
   "outputs": [
    {
     "name": "stdout",
     "output_type": "stream",
     "text": [
      "Authentication OK\n"
     ]
    }
   ],
   "source": [
    "# Using Tweepy to authenticate user using api key and access token\n",
    "auth = tweepy.OAuthHandler(api_key, api_key_secret)\n",
    "auth.set_access_token(access_token, access_token_secret)\n",
    "api = tweepy.API(auth,wait_on_rate_limit=True)\n",
    "\n",
    "# Checking if the api credentials is verified\n",
    "try:\n",
    "    api.verify_credentials()\n",
    "    print(\"Authentication OK\")\n",
    "except:\n",
    "    print(\"Error during authentication\")"
   ]
  },
  {
   "cell_type": "markdown",
   "metadata": {},
   "source": [
    "<h3>Extracting Tweets</h3>\n",
    "\n",
    "We are using search_tweets function to get all the tweets with keyword 'selling a table'"
   ]
  },
  {
   "cell_type": "code",
   "execution_count": 20,
   "metadata": {},
   "outputs": [
    {
     "name": "stdout",
     "output_type": "stream",
     "text": [
      "Connected to MySQL Server version  8.0.31\n",
      "You're connected to database:  ('twitter_schema',)\n"
     ]
    }
   ],
   "source": [
    "# Searching tweets based on the text message\n",
    "tweets = api.search_tweets('selling a table',count=10000)\n",
    "\n",
    "# Checking the database connection \n",
    "try:\n",
    "    connection = mysql.connector.connect(host='localhost',\n",
    "                                         database='twitter_schema',\n",
    "                                         user='root',\n",
    "                                         password='root')\n",
    "    if connection.is_connected():\n",
    "        db_Info = connection.get_server_info()\n",
    "        print(\"Connected to MySQL Server version \", db_Info)\n",
    "        cursor = connection.cursor()\n",
    "        cursor.execute(\"select database();\")\n",
    "        record = cursor.fetchone()\n",
    "        print(\"You're connected to database: \", record)\n",
    "except Error as e:\n",
    "    print(\"Error while connecting to MySQL\", e)\n",
    "\n"
   ]
  },
  {
   "cell_type": "markdown",
   "metadata": {},
   "source": [
    "<h3>Loading the tweets into the MySQL database</h3>"
   ]
  },
  {
   "cell_type": "code",
   "execution_count": 8,
   "metadata": {},
   "outputs": [],
   "source": [
    "# Looping over the entire tweets to fetch the required information and inserting the values in three twitter tables: tweet, tweet_mentions, tweet_tags\n",
    "\n",
    "tweet_id_list = []\n",
    "tweet_retweet_count_list = []\n",
    "tweet_mentions_id_index = 1\n",
    "tweet_tags_id_index = 1\n",
    "for tweet in tweets:\n",
    "    tweet_id = tweet.id\n",
    "    created_at = tweet.created_at\n",
    "    twitter_text = tweet.text\n",
    "    username = tweet.user.screen_name\n",
    "    name = tweet.user.name\n",
    "    userId = tweet.user.id\n",
    "    follower_count = tweet.user.followers_count\n",
    "    following_count = tweet.user.friends_count\n",
    "    twitter_handle = tweet.user.screen_name\n",
    "    profile_image_url = tweet.user.profile_image_url_https\n",
    "    description = tweet.user.description\n",
    "    userCreated_at = tweet.user.created_at\n",
    "    status = api.get_status(tweet_id)\n",
    "    retweet_count = status.retweet_count \n",
    "\n",
    "    tweet_id_list.append(tweet_id)\n",
    "    tweet_retweet_count_list.append(retweet_count)\n",
    "\n",
    "    cursor.execute('''insert into tweet ( twitter_handle, tweet_text, profile_image_url, tweet_date, user_created_at, retweets) values ( %s, %s, %s, %s, %s, %s)''', ( twitter_handle, twitter_text, profile_image_url, created_at,userCreated_at,retweet_count))\n",
    "    connection.commit()\n",
    "    tweet_id_index = cursor._last_insert_id\n",
    "    if(len(tweet.entities['user_mentions']) > 0):\n",
    "        for mention in tweet.entities['user_mentions']:\n",
    "            target_user = mention['screen_name']\n",
    "            cursor.execute('''insert into tweet_mentions (tweet_id,source_user, target_user,tweet_mentions_id) values ( %s,%s, %s, %s)''', (tweet_id_index,twitter_handle, target_user,tweet_mentions_id_index))\n",
    "            connection.commit()\n",
    "            tweet_mentions_id_index = tweet_mentions_id_index + 1\n",
    "    if(len(tweet.entities['hashtags']) > 0):\n",
    "        for tag in tweet.entities['hashtags']:\n",
    "            tag = tag['text']\n",
    "            cursor.execute('''insert into tweet_tags (tweet_id,tag, target_user,tweet_tag_id) values (%s,%s, %s, %s)''', (tweet_id_index,tag,target_user,tweet_tags_id_index))\n",
    "            connection.commit()\n",
    "            tweet_tags_id_index = tweet_tags_id_index + 1"
   ]
  },
  {
   "cell_type": "markdown",
   "metadata": {},
   "source": [
    "<h3>Audit Completeness and Audit Consistency</h3>"
   ]
  },
  {
   "cell_type": "code",
   "execution_count": 9,
   "metadata": {},
   "outputs": [
    {
     "data": {
      "text/html": [
       "<div>\n",
       "<style scoped>\n",
       "    .dataframe tbody tr th:only-of-type {\n",
       "        vertical-align: middle;\n",
       "    }\n",
       "\n",
       "    .dataframe tbody tr th {\n",
       "        vertical-align: top;\n",
       "    }\n",
       "\n",
       "    .dataframe thead th {\n",
       "        text-align: right;\n",
       "    }\n",
       "</style>\n",
       "<table border=\"1\" class=\"dataframe\">\n",
       "  <thead>\n",
       "    <tr style=\"text-align: right;\">\n",
       "      <th></th>\n",
       "      <th>price</th>\n",
       "      <th>order_date</th>\n",
       "    </tr>\n",
       "  </thead>\n",
       "  <tbody>\n",
       "    <tr>\n",
       "      <th>0</th>\n",
       "      <td>2.88</td>\n",
       "      <td>5/28/2012</td>\n",
       "    </tr>\n",
       "    <tr>\n",
       "      <th>1</th>\n",
       "      <td>2.84</td>\n",
       "      <td>7/7/2010</td>\n",
       "    </tr>\n",
       "    <tr>\n",
       "      <th>2</th>\n",
       "      <td>6.68</td>\n",
       "      <td>7/27/2011</td>\n",
       "    </tr>\n",
       "    <tr>\n",
       "      <th>3</th>\n",
       "      <td>5.68</td>\n",
       "      <td>7/27/2011</td>\n",
       "    </tr>\n",
       "    <tr>\n",
       "      <th>4</th>\n",
       "      <td>205.99</td>\n",
       "      <td>7/27/2011</td>\n",
       "    </tr>\n",
       "    <tr>\n",
       "      <th>...</th>\n",
       "      <td>...</td>\n",
       "      <td>...</td>\n",
       "    </tr>\n",
       "    <tr>\n",
       "      <th>9421</th>\n",
       "      <td>35.89</td>\n",
       "      <td>5/14/2013</td>\n",
       "    </tr>\n",
       "    <tr>\n",
       "      <th>9422</th>\n",
       "      <td>3.34</td>\n",
       "      <td>5/14/2013</td>\n",
       "    </tr>\n",
       "    <tr>\n",
       "      <th>9423</th>\n",
       "      <td>550.98</td>\n",
       "      <td>9/12/2013</td>\n",
       "    </tr>\n",
       "    <tr>\n",
       "      <th>9424</th>\n",
       "      <td>105.98</td>\n",
       "      <td>2/8/2010</td>\n",
       "    </tr>\n",
       "    <tr>\n",
       "      <th>9425</th>\n",
       "      <td>7.78</td>\n",
       "      <td>9/12/2013</td>\n",
       "    </tr>\n",
       "  </tbody>\n",
       "</table>\n",
       "<p>8424 rows × 2 columns</p>\n",
       "</div>"
      ],
      "text/plain": [
       "       price order_date\n",
       "0       2.88  5/28/2012\n",
       "1       2.84   7/7/2010\n",
       "2       6.68  7/27/2011\n",
       "3       5.68  7/27/2011\n",
       "4     205.99  7/27/2011\n",
       "...      ...        ...\n",
       "9421   35.89  5/14/2013\n",
       "9422    3.34  5/14/2013\n",
       "9423  550.98  9/12/2013\n",
       "9424  105.98   2/8/2010\n",
       "9425    7.78  9/12/2013\n",
       "\n",
       "[8424 rows x 2 columns]"
      ]
     },
     "execution_count": 9,
     "metadata": {},
     "output_type": "execute_result"
    }
   ],
   "source": [
    "import pandas as pd\n",
    "\n",
    "# Source for flipkart csv dataset from kaggle: https://www.kaggle.com/datasets/PromptCloudHQ/flipkart-products\n",
    "# reading csv files\n",
    "flipkart_csv_df = pd.read_csv('C:\\\\Personal_Documents\\\\Assignments\\\\DMDD\\\\data_sources\\\\flipkart_com-ecommerce_sample.csv',delimiter = ',')\n",
    "\n",
    "# Source for orders csv from github: https://github.com/pawarbi/datasets/blob/master/Orders.csv\n",
    "# reading csv files\n",
    "order_df = pd.read_csv('C:\\\\Personal_Documents\\\\Assignments\\\\DMDD\\\\data_sources\\\\orders.csv',delimiter = ',')\n",
    "\n",
    "\n",
    "\n",
    "#Code to clean the data by removing all the na values, drop all the unwanted columns and removing all the duplicates\n",
    "flipkart_csv_df.drop(columns = [flipkart_csv_df.columns[0],flipkart_csv_df.columns[1],flipkart_csv_df.columns[2],flipkart_csv_df.columns[5],flipkart_csv_df.columns[6],flipkart_csv_df.columns[7],flipkart_csv_df.columns[8],flipkart_csv_df.columns[9],flipkart_csv_df.columns[10],flipkart_csv_df.columns[13],flipkart_csv_df.columns[14]],  inplace= True)\n",
    "flipkart_csv_df.dropna()\n",
    "flipkart_csv_df.drop_duplicates(subset=['product_name'])\n",
    "\n",
    "#Code to clean the data by removing all the na values, drop all the unwanted columns and removing all the duplicates. We have also used rename function to rename the columns.\n",
    "order_df.drop(columns = [order_df.columns[0],order_df.columns[1],order_df.columns[2],order_df.columns[4],order_df.columns[5],order_df.columns[6],order_df.columns[7],order_df.columns[8],order_df.columns[9],order_df.columns[10],order_df.columns[11],order_df.columns[12],order_df.columns[13],order_df.columns[14],order_df.columns[15],order_df.columns[17],order_df.columns[16],order_df.columns[19],order_df.columns[20],order_df.columns[21],order_df.columns[22],order_df.columns[23]],  inplace= True)\n",
    "order_df.rename(columns={\"Unit Price\": \"price\", \"Order Date\": \"order_date\"}, inplace=True)\n",
    "order_df.dropna()\n",
    "order_df.drop_duplicates()"
   ]
  },
  {
   "cell_type": "markdown",
   "metadata": {},
   "source": [
    "<h3>Code block to insert records in the Category table</h3>\n",
    "We have written the code to insert the records in the category table."
   ]
  },
  {
   "cell_type": "code",
   "execution_count": 10,
   "metadata": {},
   "outputs": [],
   "source": [
    "category_id = 1\n",
    "product_category_list = []\n",
    "for index,data in flipkart_csv_df.iterrows(): \n",
    "    if index == 500:\n",
    "        break \n",
    "    product_category_tree_df = data['product_category_tree']\n",
    "    #To fetch only the root value of the product_category_tree using the below logic\n",
    "    startString = '[\"'\n",
    "    endString = ' >>'\n",
    "    data['product_category_tree'] = product_category_tree_df[product_category_tree_df.find(startString)+len(startString):product_category_tree_df.find(endString)]\n",
    "    product_category_list.append(data['product_category_tree'])\n",
    "    cursor.execute('''insert into category (category_id,category_name) values (%s,%s)''', (category_id,data[\"product_category_tree\"]))\n",
    "    category_id = category_id + 1\n",
    "    connection.commit()"
   ]
  },
  {
   "cell_type": "markdown",
   "metadata": {},
   "source": [
    "<h3>Code block to insert records in the Product table</h3>\n",
    "We have written the code to insert the records in the product table."
   ]
  },
  {
   "cell_type": "code",
   "execution_count": 11,
   "metadata": {},
   "outputs": [],
   "source": [
    "product_id = 1\n",
    "category_id = 1\n",
    "for index,data in flipkart_csv_df.iterrows():\n",
    "    if index == 500:\n",
    "        break \n",
    "    product_name_df = data['product_name']\n",
    "    data['product_name'] = product_name_df[:100]\n",
    "    cursor.execute('''insert into product (product_id,product_name,category_id) values (%s,%s,%s)''', (product_id, data[\"product_name\"],category_id))\n",
    "    connection.commit()\n",
    "    product_id = product_id + 1\n",
    "    category_id = category_id + 1"
   ]
  },
  {
   "cell_type": "markdown",
   "metadata": {},
   "source": [
    "<h3>Code block to insert records in the Feedback table</h3>\n",
    "We have written the code to insert the records in the feedback table."
   ]
  },
  {
   "cell_type": "code",
   "execution_count": 12,
   "metadata": {},
   "outputs": [],
   "source": [
    "feedback_id = 1\n",
    "for index,data in flipkart_csv_df.iterrows():\n",
    "    if index == 500:\n",
    "        break\n",
    "# We will use proucting rating to generate value for the comments column. If the rating is not available we will assign -1 score. \n",
    "    product_rating_df = data['product_rating']\n",
    "    if product_rating_df == 'No rating available':\n",
    "        comments = 'No comments for the product'\n",
    "        feedback_score = -1\n",
    "    else:\n",
    "        feedback_score = round(float(product_rating_df.strip())) \n",
    "    \n",
    "\n",
    "    rounded_feedback_score = feedback_score\n",
    "\n",
    "# If the feedback score is less than 3, we will assign comment as 'Worst Product' else we will assing comment as 'Good Product'\n",
    "    if rounded_feedback_score < 3:\n",
    "        comments = 'Worst Product'\n",
    "    else:\n",
    "        comments = 'Good Product'\n",
    "        \n",
    "    cursor.execute('''insert into feedback (feedback_id,feedback_score,comments) values (%s,%s,%s)''', (feedback_id, feedback_score,comments))\n",
    "    connection.commit()\n",
    "    feedback_id = feedback_id + 1"
   ]
  },
  {
   "cell_type": "markdown",
   "metadata": {},
   "source": [
    "<h4>Code to read us-colleges-and-universities csv and student.csv in dataframe. We have also cleaned and standardized the data by removing all the na and duplicate values.</h4>"
   ]
  },
  {
   "cell_type": "code",
   "execution_count": 13,
   "metadata": {},
   "outputs": [
    {
     "data": {
      "text/html": [
       "<div>\n",
       "<style scoped>\n",
       "    .dataframe tbody tr th:only-of-type {\n",
       "        vertical-align: middle;\n",
       "    }\n",
       "\n",
       "    .dataframe tbody tr th {\n",
       "        vertical-align: top;\n",
       "    }\n",
       "\n",
       "    .dataframe thead th {\n",
       "        text-align: right;\n",
       "    }\n",
       "</style>\n",
       "<table border=\"1\" class=\"dataframe\">\n",
       "  <thead>\n",
       "    <tr style=\"text-align: right;\">\n",
       "      <th></th>\n",
       "      <th>seller_id</th>\n",
       "      <th>student_id</th>\n",
       "      <th>premium_flag</th>\n",
       "    </tr>\n",
       "  </thead>\n",
       "  <tbody>\n",
       "    <tr>\n",
       "      <th>0</th>\n",
       "      <td>162</td>\n",
       "      <td>225</td>\n",
       "      <td>0</td>\n",
       "    </tr>\n",
       "    <tr>\n",
       "      <th>1</th>\n",
       "      <td>182</td>\n",
       "      <td>80</td>\n",
       "      <td>1</td>\n",
       "    </tr>\n",
       "    <tr>\n",
       "      <th>2</th>\n",
       "      <td>186</td>\n",
       "      <td>95</td>\n",
       "      <td>0</td>\n",
       "    </tr>\n",
       "    <tr>\n",
       "      <th>3</th>\n",
       "      <td>138</td>\n",
       "      <td>178</td>\n",
       "      <td>1</td>\n",
       "    </tr>\n",
       "    <tr>\n",
       "      <th>4</th>\n",
       "      <td>168</td>\n",
       "      <td>154</td>\n",
       "      <td>0</td>\n",
       "    </tr>\n",
       "    <tr>\n",
       "      <th>5</th>\n",
       "      <td>187</td>\n",
       "      <td>290</td>\n",
       "      <td>0</td>\n",
       "    </tr>\n",
       "    <tr>\n",
       "      <th>6</th>\n",
       "      <td>126</td>\n",
       "      <td>290</td>\n",
       "      <td>1</td>\n",
       "    </tr>\n",
       "    <tr>\n",
       "      <th>7</th>\n",
       "      <td>141</td>\n",
       "      <td>189</td>\n",
       "      <td>0</td>\n",
       "    </tr>\n",
       "    <tr>\n",
       "      <th>8</th>\n",
       "      <td>103</td>\n",
       "      <td>121</td>\n",
       "      <td>0</td>\n",
       "    </tr>\n",
       "    <tr>\n",
       "      <th>9</th>\n",
       "      <td>148</td>\n",
       "      <td>151</td>\n",
       "      <td>0</td>\n",
       "    </tr>\n",
       "    <tr>\n",
       "      <th>10</th>\n",
       "      <td>151</td>\n",
       "      <td>79</td>\n",
       "      <td>1</td>\n",
       "    </tr>\n",
       "    <tr>\n",
       "      <th>11</th>\n",
       "      <td>156</td>\n",
       "      <td>216</td>\n",
       "      <td>1</td>\n",
       "    </tr>\n",
       "    <tr>\n",
       "      <th>12</th>\n",
       "      <td>145</td>\n",
       "      <td>28</td>\n",
       "      <td>0</td>\n",
       "    </tr>\n",
       "    <tr>\n",
       "      <th>13</th>\n",
       "      <td>163</td>\n",
       "      <td>184</td>\n",
       "      <td>1</td>\n",
       "    </tr>\n",
       "    <tr>\n",
       "      <th>14</th>\n",
       "      <td>129</td>\n",
       "      <td>155</td>\n",
       "      <td>0</td>\n",
       "    </tr>\n",
       "    <tr>\n",
       "      <th>15</th>\n",
       "      <td>158</td>\n",
       "      <td>13</td>\n",
       "      <td>1</td>\n",
       "    </tr>\n",
       "    <tr>\n",
       "      <th>16</th>\n",
       "      <td>122</td>\n",
       "      <td>285</td>\n",
       "      <td>1</td>\n",
       "    </tr>\n",
       "    <tr>\n",
       "      <th>17</th>\n",
       "      <td>198</td>\n",
       "      <td>217</td>\n",
       "      <td>1</td>\n",
       "    </tr>\n",
       "    <tr>\n",
       "      <th>18</th>\n",
       "      <td>130</td>\n",
       "      <td>206</td>\n",
       "      <td>0</td>\n",
       "    </tr>\n",
       "    <tr>\n",
       "      <th>19</th>\n",
       "      <td>119</td>\n",
       "      <td>73</td>\n",
       "      <td>1</td>\n",
       "    </tr>\n",
       "    <tr>\n",
       "      <th>20</th>\n",
       "      <td>152</td>\n",
       "      <td>205</td>\n",
       "      <td>1</td>\n",
       "    </tr>\n",
       "    <tr>\n",
       "      <th>21</th>\n",
       "      <td>165</td>\n",
       "      <td>51</td>\n",
       "      <td>1</td>\n",
       "    </tr>\n",
       "    <tr>\n",
       "      <th>22</th>\n",
       "      <td>109</td>\n",
       "      <td>64</td>\n",
       "      <td>1</td>\n",
       "    </tr>\n",
       "    <tr>\n",
       "      <th>23</th>\n",
       "      <td>183</td>\n",
       "      <td>203</td>\n",
       "      <td>0</td>\n",
       "    </tr>\n",
       "    <tr>\n",
       "      <th>24</th>\n",
       "      <td>160</td>\n",
       "      <td>267</td>\n",
       "      <td>1</td>\n",
       "    </tr>\n",
       "    <tr>\n",
       "      <th>25</th>\n",
       "      <td>161</td>\n",
       "      <td>180</td>\n",
       "      <td>0</td>\n",
       "    </tr>\n",
       "    <tr>\n",
       "      <th>26</th>\n",
       "      <td>188</td>\n",
       "      <td>61</td>\n",
       "      <td>0</td>\n",
       "    </tr>\n",
       "    <tr>\n",
       "      <th>27</th>\n",
       "      <td>192</td>\n",
       "      <td>92</td>\n",
       "      <td>0</td>\n",
       "    </tr>\n",
       "    <tr>\n",
       "      <th>28</th>\n",
       "      <td>166</td>\n",
       "      <td>176</td>\n",
       "      <td>0</td>\n",
       "    </tr>\n",
       "    <tr>\n",
       "      <th>29</th>\n",
       "      <td>181</td>\n",
       "      <td>133</td>\n",
       "      <td>1</td>\n",
       "    </tr>\n",
       "    <tr>\n",
       "      <th>30</th>\n",
       "      <td>153</td>\n",
       "      <td>191</td>\n",
       "      <td>1</td>\n",
       "    </tr>\n",
       "    <tr>\n",
       "      <th>31</th>\n",
       "      <td>171</td>\n",
       "      <td>95</td>\n",
       "      <td>0</td>\n",
       "    </tr>\n",
       "    <tr>\n",
       "      <th>32</th>\n",
       "      <td>169</td>\n",
       "      <td>69</td>\n",
       "      <td>1</td>\n",
       "    </tr>\n",
       "    <tr>\n",
       "      <th>33</th>\n",
       "      <td>154</td>\n",
       "      <td>155</td>\n",
       "      <td>0</td>\n",
       "    </tr>\n",
       "    <tr>\n",
       "      <th>34</th>\n",
       "      <td>159</td>\n",
       "      <td>12</td>\n",
       "      <td>1</td>\n",
       "    </tr>\n",
       "    <tr>\n",
       "      <th>35</th>\n",
       "      <td>167</td>\n",
       "      <td>10</td>\n",
       "      <td>1</td>\n",
       "    </tr>\n",
       "    <tr>\n",
       "      <th>36</th>\n",
       "      <td>107</td>\n",
       "      <td>160</td>\n",
       "      <td>0</td>\n",
       "    </tr>\n",
       "    <tr>\n",
       "      <th>37</th>\n",
       "      <td>178</td>\n",
       "      <td>165</td>\n",
       "      <td>0</td>\n",
       "    </tr>\n",
       "    <tr>\n",
       "      <th>38</th>\n",
       "      <td>185</td>\n",
       "      <td>107</td>\n",
       "      <td>0</td>\n",
       "    </tr>\n",
       "    <tr>\n",
       "      <th>39</th>\n",
       "      <td>123</td>\n",
       "      <td>167</td>\n",
       "      <td>0</td>\n",
       "    </tr>\n",
       "    <tr>\n",
       "      <th>40</th>\n",
       "      <td>184</td>\n",
       "      <td>210</td>\n",
       "      <td>1</td>\n",
       "    </tr>\n",
       "    <tr>\n",
       "      <th>41</th>\n",
       "      <td>131</td>\n",
       "      <td>68</td>\n",
       "      <td>1</td>\n",
       "    </tr>\n",
       "    <tr>\n",
       "      <th>42</th>\n",
       "      <td>194</td>\n",
       "      <td>123</td>\n",
       "      <td>1</td>\n",
       "    </tr>\n",
       "    <tr>\n",
       "      <th>43</th>\n",
       "      <td>195</td>\n",
       "      <td>58</td>\n",
       "      <td>1</td>\n",
       "    </tr>\n",
       "    <tr>\n",
       "      <th>44</th>\n",
       "      <td>150</td>\n",
       "      <td>273</td>\n",
       "      <td>0</td>\n",
       "    </tr>\n",
       "    <tr>\n",
       "      <th>45</th>\n",
       "      <td>176</td>\n",
       "      <td>183</td>\n",
       "      <td>1</td>\n",
       "    </tr>\n",
       "    <tr>\n",
       "      <th>46</th>\n",
       "      <td>115</td>\n",
       "      <td>68</td>\n",
       "      <td>1</td>\n",
       "    </tr>\n",
       "    <tr>\n",
       "      <th>47</th>\n",
       "      <td>114</td>\n",
       "      <td>96</td>\n",
       "      <td>0</td>\n",
       "    </tr>\n",
       "    <tr>\n",
       "      <th>48</th>\n",
       "      <td>124</td>\n",
       "      <td>209</td>\n",
       "      <td>0</td>\n",
       "    </tr>\n",
       "    <tr>\n",
       "      <th>49</th>\n",
       "      <td>155</td>\n",
       "      <td>248</td>\n",
       "      <td>0</td>\n",
       "    </tr>\n",
       "  </tbody>\n",
       "</table>\n",
       "</div>"
      ],
      "text/plain": [
       "    seller_id  student_id  premium_flag\n",
       "0         162         225             0\n",
       "1         182          80             1\n",
       "2         186          95             0\n",
       "3         138         178             1\n",
       "4         168         154             0\n",
       "5         187         290             0\n",
       "6         126         290             1\n",
       "7         141         189             0\n",
       "8         103         121             0\n",
       "9         148         151             0\n",
       "10        151          79             1\n",
       "11        156         216             1\n",
       "12        145          28             0\n",
       "13        163         184             1\n",
       "14        129         155             0\n",
       "15        158          13             1\n",
       "16        122         285             1\n",
       "17        198         217             1\n",
       "18        130         206             0\n",
       "19        119          73             1\n",
       "20        152         205             1\n",
       "21        165          51             1\n",
       "22        109          64             1\n",
       "23        183         203             0\n",
       "24        160         267             1\n",
       "25        161         180             0\n",
       "26        188          61             0\n",
       "27        192          92             0\n",
       "28        166         176             0\n",
       "29        181         133             1\n",
       "30        153         191             1\n",
       "31        171          95             0\n",
       "32        169          69             1\n",
       "33        154         155             0\n",
       "34        159          12             1\n",
       "35        167          10             1\n",
       "36        107         160             0\n",
       "37        178         165             0\n",
       "38        185         107             0\n",
       "39        123         167             0\n",
       "40        184         210             1\n",
       "41        131          68             1\n",
       "42        194         123             1\n",
       "43        195          58             1\n",
       "44        150         273             0\n",
       "45        176         183             1\n",
       "46        115          68             1\n",
       "47        114          96             0\n",
       "48        124         209             0\n",
       "49        155         248             0"
      ]
     },
     "execution_count": 13,
     "metadata": {},
     "output_type": "execute_result"
    }
   ],
   "source": [
    "import random\n",
    "\n",
    "# Source for university dataset: https://public.opendatasoft.com/explore/dataset/us-colleges-and-universities/export/\n",
    "# reading csv files\n",
    "university = pd.read_csv('C:\\\\Personal_Documents\\\\Assignments\\\\DMDD\\\\data_sources\\\\us-colleges-and-universities.csv', sep=\",\")\n",
    "\n",
    "# formatting university data\n",
    "university = university[['OBJECTID', 'NAME', 'STATE', 'CITY']]\n",
    "university = university.rename(columns={\"OBJECTID\": \"university_id\", \"NAME\": \"university_name\", \"CITY\": \"city\", \"STATE\": \"state\"})\n",
    "\n",
    "#print(university.head(10))\n",
    "\n",
    "# Source for student dataset: https://github.com/ShapeLab/ZooidsCompositePhysicalizations/blob/master/Zooid_Vis/bin/data/student-dataset.csv\n",
    "# reading csv files\n",
    "student = pd.read_csv('C:\\\\Personal_Documents\\\\Assignments\\\\DMDD\\\\data_sources\\\\student.csv', sep=\",\")\n",
    "\n",
    "# formatting student data\n",
    "student = student[['id', 'name']]\n",
    "student[['first_name', 'last_name', 'temp']] = student.name.str.split(\" \", expand=True)\n",
    "student = student.drop('temp', axis=1)\n",
    "student = student.rename(columns={\"id\": \"student_id\"})\n",
    "student.dropna()\n",
    "\n",
    "# generating random university ids for student\n",
    "univ_id = []\n",
    "for i in range(len(student)):\n",
    "    univ_id.append(random.choice(university['university_id']))\n",
    "\n",
    "# adding university_id to student\n",
    "student['university_id'] = ''\n",
    "student['university_id'] = univ_id\n",
    "\n",
    "#Populating buyer\n",
    "buyer_id = random.sample(range(3, 100), 50)\n",
    "stud_id = []\n",
    "\n",
    "for i in range(50):\n",
    "    stud_id.append(random.choice(student['student_id']))\n",
    "\n",
    "temp_data = {'buyer_id': buyer_id,\n",
    "        'student_id': stud_id}\n",
    "\n",
    "buyer = pd.DataFrame(temp_data)\n",
    "\n",
    "#Populating seller\n",
    "seller_id = random.sample(range(103, 200), 50)\n",
    "premium_flag = []\n",
    "stud_id = []\n",
    "\n",
    "for i in range(50):\n",
    "    premium_flag.append(random.randint(0,1))\n",
    "\n",
    "for i in range(50):\n",
    "    stud_id.append(random.choice(student['student_id']))\n",
    "\n",
    "temp_data = {'seller_id': seller_id,\n",
    "            'student_id': stud_id,\n",
    "            'premium_flag':premium_flag}\n",
    "\n",
    "seller = pd.DataFrame(temp_data)\n",
    "seller.dropna()"
   ]
  },
  {
   "cell_type": "markdown",
   "metadata": {},
   "source": [
    "<h3>Boxplot to view the consistency and range of data for the premium flag in the seller table</h3>"
   ]
  },
  {
   "cell_type": "markdown",
   "metadata": {},
   "source": [
    "<h3>Code block to insert records in the University table</h3>\n",
    "We have written the code to insert the records in the university table."
   ]
  },
  {
   "cell_type": "code",
   "execution_count": 14,
   "metadata": {},
   "outputs": [],
   "source": [
    "#Inserting data into the database\n",
    "# university_id = 1\n",
    "for uni in university.iterrows():\n",
    "    university_id = uni[1][0]\n",
    "    university_name = uni[1][1]\n",
    "    state = uni[1][2]\n",
    "    city = uni[1][3]\n",
    "\n",
    "    cursor.execute(\n",
    "        '''insert into university (university_id, university_name, state, city) values ( %s, %s, %s, %s);''',\n",
    "        (university_id, university_name, state, city))\n",
    "    # university_id = university_id + 1\n",
    "    connection.commit()"
   ]
  },
  {
   "cell_type": "markdown",
   "metadata": {},
   "source": [
    "<h3>Code block to insert records in the Student table</h3>\n",
    "We have written the code to insert the records in the student table."
   ]
  },
  {
   "cell_type": "code",
   "execution_count": 15,
   "metadata": {},
   "outputs": [],
   "source": [
    "for stud in student.iterrows():\n",
    "    student_id = stud[1][0]\n",
    "    university_id = stud[1][4]\n",
    "    first_name = stud[1][2]\n",
    "    last_name = stud[1][3]\n",
    "    cursor.execute(\n",
    "        '''insert into student (student_id, university_id, first_name, last_name) values ( %s, %s, %s, %s);''',\n",
    "        (student_id, university_id, first_name, last_name))\n",
    "    connection.commit()"
   ]
  },
  {
   "cell_type": "markdown",
   "metadata": {},
   "source": [
    "<h3>Code block to insert records in the Buyer table</h3>\n",
    "We have written the code to insert the records in the buyer table."
   ]
  },
  {
   "cell_type": "code",
   "execution_count": 16,
   "metadata": {},
   "outputs": [],
   "source": [
    "for b in buyer.iterrows():\n",
    "    student_id = int(b[1][1])\n",
    "    buyer_id = int(b[1][0])\n",
    "    cursor.execute(\n",
    "        '''insert into buyer (buyer_id, student_id) values ( %s, %s);''',\n",
    "        (buyer_id, student_id))\n",
    "    connection.commit()"
   ]
  },
  {
   "cell_type": "markdown",
   "metadata": {},
   "source": [
    "<h3>Code block to insert records in the Seller table</h3>\n",
    "We have written the code to insert the records in the seller table."
   ]
  },
  {
   "cell_type": "code",
   "execution_count": 17,
   "metadata": {},
   "outputs": [],
   "source": [
    "for s in seller.iterrows():\n",
    "    student_id = int(s[1][1])\n",
    "    seller_id = int(s[1][0])\n",
    "    premium_flag = int(s[1][2])\n",
    "\n",
    "    cursor.execute(\n",
    "        '''insert into seller (seller_id, student_id,premium_flag) values ( %s, %s, %s);''',\n",
    "        (seller_id, student_id, premium_flag))\n",
    "    connection.commit()"
   ]
  },
  {
   "cell_type": "markdown",
   "metadata": {},
   "source": [
    "<h3>Code block to insert records in the Tweet Order table</h3>\n",
    "We have written the code to insert the records in the tweet_order table."
   ]
  },
  {
   "cell_type": "code",
   "execution_count": 21,
   "metadata": {},
   "outputs": [],
   "source": [
    "t_order_id = 1\n",
    "tweet_id = 1\n",
    "product_id = 1\n",
    "feedback_id = 1\n",
    "t_order_details_id = 1\n",
    "\n",
    "seller_id = []\n",
    "buyer_id = []\n",
    "price = []\n",
    "seller_id_1 = []\n",
    "product_id_1 = []\n",
    "for i in range(len(order_df)):\n",
    "    seller_id.append(random.choice(seller['seller_id']))\n",
    "\n",
    "for i in range(len(order_df)):\n",
    "    buyer_id.append(random.choice(buyer['buyer_id']))\n",
    "\n",
    "temp_data = {\n",
    "        'seller_id' : seller_id,\n",
    "        'buyer_id' : buyer_id}\n",
    "\n",
    "main_df = pd.DataFrame(temp_data)\n",
    "\n",
    "result = pd.concat([main_df, order_df], axis=1)\n",
    "\n",
    "for index,data in result.iterrows(): \n",
    "    if index == 500:\n",
    "        break\n",
    "    seller_id_1.append(data['seller_id'])\n",
    "    product_id_1.append(product_id) \n",
    "    price.append(data['price'])\n",
    "    d = data['order_date'].replace('/','-')\n",
    "    data['order_date'] = d.split(\"-\")[2]+\"-\"+d.split(\"-\")[0]+\"-\"+d.split(\"-\")[1]\n",
    "    cursor.execute('''insert into twitter_order_header(t_order_id,buyer_id,seller_id,tweet_id,feedback_id,order_date) values (%s,%s,%s,%s,%s,%s)''', (t_order_id,data['buyer_id'],data['seller_id'],tweet_id,feedback_id,data['order_date']))\n",
    "    connection.commit()\n",
    "    cursor.execute('''insert into twitter_order_details(t_order_details_id, t_order_id,product_id, price) values (%s,%s,%s,%s)''', (t_order_details_id,t_order_id,product_id,data['price']))\n",
    "    connection.commit()\n",
    "    tweet_id = tweet_id + 1\n",
    "    t_order_id = t_order_id + 1\n",
    "    t_order_details_id = t_order_details_id + 1\n",
    "    product_id = product_id + 1\n",
    "    feedback_id = feedback_id + 1"
   ]
  },
  {
   "attachments": {},
   "cell_type": "markdown",
   "metadata": {},
   "source": [
    "<h3>This scatterplot represents a distribution of prices at which items were sold by Seller IDs. This indicates that the data is valid. </h3>"
   ]
  },
  {
   "cell_type": "code",
   "execution_count": 22,
   "metadata": {},
   "outputs": [
    {
     "data": {
      "text/plain": [
       "<matplotlib.collections.PathCollection at 0x21b252a6f80>"
      ]
     },
     "execution_count": 22,
     "metadata": {},
     "output_type": "execute_result"
    },
    {
     "data": {
      "image/png": "[encoded data removed]",
      "text/plain": [
       "<Figure size 640x480 with 1 Axes>"
      ]
     },
     "metadata": {},
     "output_type": "display_data"
    }
   ],
   "source": [
    "import matplotlib.pyplot as plt\n",
    "\n",
    "\n",
    "plt.xlim([100, 200])\n",
    "plt.ylim([1, 1500])\n",
    "plt.xlabel('Seller ID', fontsize=18)\n",
    "plt.ylabel('Price', fontsize=18)\n",
    "\n",
    "plt.scatter(seller_id_1,price)\n",
    "\n",
    " "
   ]
  },
  {
   "attachments": {},
   "cell_type": "markdown",
   "metadata": {},
   "source": [
    "<h3> This scatterplot represents a distribution of prices at which products were sold in the system. This indicates that the data is valid. </h3>"
   ]
  },
  {
   "cell_type": "code",
   "execution_count": 23,
   "metadata": {},
   "outputs": [
    {
     "data": {
      "text/plain": [
       "<matplotlib.collections.PathCollection at 0x21b24eebd30>"
      ]
     },
     "execution_count": 23,
     "metadata": {},
     "output_type": "execute_result"
    },
    {
     "data": {
      "image/png": "[encoded data removed]",
      "text/plain": [
       "<Figure size 640x480 with 1 Axes>"
      ]
     },
     "metadata": {},
     "output_type": "display_data"
    }
   ],
   "source": [
    "import matplotlib.pyplot as plt\n",
    "\n",
    "\n",
    "plt.xlim([100, 200])\n",
    "plt.ylim([1, 1500])\n",
    "plt.xlabel('Product ID', fontsize=18)\n",
    "plt.ylabel('Price', fontsize=18)\n",
    "\n",
    "\n",
    "plt.scatter(product_id_1,price)\n",
    "\n"
   ]
  },
  {
   "attachments": {},
   "cell_type": "markdown",
   "metadata": {},
   "source": [
    "<h3>This box represents a univariate analysis of prica variable to identify whether the data is uniformly distributed or not. The boxplot indicates that the all the price data points are concentrated close to the lower limit. There are certain data points that are outliers but such outliers are present due to the presence of high value products. </h3>"
   ]
  },
  {
   "cell_type": "code",
   "execution_count": 24,
   "metadata": {},
   "outputs": [
    {
     "data": {
      "image/png": "[encoded data removed]",
      "text/plain": [
       "<Figure size 640x480 with 1 Axes>"
      ]
     },
     "metadata": {},
     "output_type": "display_data"
    }
   ],
   "source": [
    "boxplot = order_df.boxplot(column=['price'])\n",
    "\n",
    "# This box represents a univariate analysis of prica variable to identify whether the data is uniformly \n",
    "# distributed or not.\n",
    "# The boxplot indicates that the all the price data points are concentrated close to the lower limit.\n",
    "# There are certain data points that are outliers but such outliers are present due to the presence of high value products."
   ]
  },
  {
   "attachments": {},
   "cell_type": "markdown",
   "metadata": {},
   "source": [
    "<h3> This bar graph represents category wise count of products in the system. Data accuracy can be validated using this graph by comparing the count with the source data. </h3>"
   ]
  },
  {
   "cell_type": "code",
   "execution_count": 25,
   "metadata": {},
   "outputs": [
    {
     "data": {
      "text/plain": [
       "<AxesSubplot: xlabel='Category', ylabel='count'>"
      ]
     },
     "execution_count": 25,
     "metadata": {},
     "output_type": "execute_result"
    },
    {
     "data": {
      "image/png": "[encoded data removed]",
      "text/plain": [
       "<Figure size 640x480 with 1 Axes>"
      ]
     },
     "metadata": {},
     "output_type": "display_data"
    }
   ],
   "source": [
    "import seaborn as sns\n",
    "df2 = pd.DataFrame(product_category_list)\n",
    "df2.columns =['Category'] \n",
    "sns.countplot(x = 'Category',\n",
    "              data = df2,\n",
    "              order = df2['Category'].value_counts().head(5).index)\n"
   ]
  },
  {
   "attachments": {},
   "cell_type": "markdown",
   "metadata": {},
   "source": [
    "<h3>This boxplot shows the uniform and consistent distribution of premium flag variable. \n",
    "That is because all the data points lie between the inter quartile range. </h3>"
   ]
  },
  {
   "cell_type": "code",
   "execution_count": 26,
   "metadata": {},
   "outputs": [
    {
     "data": {
      "image/png": "[encoded data removed]",
      "text/plain": [
       "<Figure size 640x480 with 1 Axes>"
      ]
     },
     "metadata": {},
     "output_type": "display_data"
    }
   ],
   "source": [
    "boxplot = seller.boxplot(column=['premium_flag'])\n"
   ]
  }
 ],
 "metadata": {
  "kernelspec": {
   "display_name": "Python 3",
   "language": "python",
   "name": "python3"
  },
  "language_info": {
   "codemirror_mode": {
    "name": "ipython",
    "version": 3
   },
   "file_extension": ".py",
   "mimetype": "text/x-python",
   "name": "python",
   "nbconvert_exporter": "python",
   "pygments_lexer": "ipython3",
   "version": "3.10.8"
  },
  "orig_nbformat": 4,
  "vscode": {
   "interpreter": {
    "hash": "fcc36d1ccd5caa3799214c4c78edfa7969ad6d25bcbeb3fef3413f17f0ea6e7e"
   }
  }
 },
 "nbformat": 4,
 "nbformat_minor": 2
}
